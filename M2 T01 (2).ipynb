{
 "cells": [
  {
   "cell_type": "markdown",
   "id": "6523a316",
   "metadata": {},
   "source": [
    "# Exercici 1\n",
    "## Crea una llista que agrupi els mesos de l’any en trimestres (1T: gener, febrer i març; 2T: abril, maig, juny...), és a dir, una llista amb 4 llistes dins."
   ]
  },
  {
   "cell_type": "code",
   "execution_count": 2,
   "id": "1b76b2e5",
   "metadata": {},
   "outputs": [
    {
     "data": {
      "text/plain": [
       "[['gener', 'febrer', 'març'],\n",
       " ['abril', 'maig', 'juny'],\n",
       " ['juliol', 'agost', 'setembre'],\n",
       " ['octubre', 'novembre', 'decembre']]"
      ]
     },
     "execution_count": 2,
     "metadata": {},
     "output_type": "execute_result"
    }
   ],
   "source": [
    "T1 = [\"gener\", \"febrer\", \"març\"]\n",
    "T2 = [\"abril\", \"maig\", \"juny\"]\n",
    "T3 = [\"juliol\", \"agost\", \"setembre\"]\n",
    "T4 = [\"octubre\", \"novembre\", \"decembre\"]\n",
    "mesos = [T1, T2, T3, T4]\n",
    "mesos"
   ]
  },
  {
   "cell_type": "markdown",
   "id": "7af02cbc",
   "metadata": {},
   "source": [
    "# Exercici 2\n",
    "## Crea un codi que et permeti accedir a:\n",
    "\n",
    "### El segon mes del primer trimestre.\n",
    "### Els mesos del primer trimestre.\n",
    "### Setembre i octubre."
   ]
  },
  {
   "cell_type": "code",
   "execution_count": 5,
   "id": "f5c9c5c3",
   "metadata": {},
   "outputs": [
    {
     "data": {
      "text/plain": [
       "('El segon mes del primer trimestre és', 'febrer')"
      ]
     },
     "execution_count": 5,
     "metadata": {},
     "output_type": "execute_result"
    }
   ],
   "source": [
    "\"El segon mes del primer trimestre és\", mesos[0][1]"
   ]
  },
  {
   "cell_type": "code",
   "execution_count": 7,
   "id": "5474c619",
   "metadata": {},
   "outputs": [
    {
     "data": {
      "text/plain": [
       "('Els mesos primer trimestre són', ['gener', 'febrer', 'març'])"
      ]
     },
     "execution_count": 7,
     "metadata": {},
     "output_type": "execute_result"
    }
   ],
   "source": [
    "\"Els mesos primer trimestre són\", mesos[0]"
   ]
  },
  {
   "cell_type": "code",
   "execution_count": 8,
   "id": "a03eda55",
   "metadata": {},
   "outputs": [
    {
     "name": "stdout",
     "output_type": "stream",
     "text": [
      "setembre octubre\n"
     ]
    }
   ],
   "source": [
    "print(mesos[2][2], mesos[3][0])\n",
    "\n"
   ]
  },
  {
   "cell_type": "markdown",
   "id": "07e310df",
   "metadata": {},
   "source": [
    "# Exercici 3\n",
    "## Crea una llista amb nombres desordenats i respon a les següents preguntes:\n",
    "\n",
    "### Quants números hi ha?\n",
    "### Quantes vegades apareix el número 3.\n",
    "### Quantes vegades apareixen els nombres 3 i 4?\n",
    "### Quin és el número més gran?\n",
    "### Quins són els 3 números més petits?\n",
    "### Quin és el rang d’aquesta llista?"
   ]
  },
  {
   "cell_type": "code",
   "execution_count": 10,
   "id": "2173192b",
   "metadata": {},
   "outputs": [
    {
     "name": "stdout",
     "output_type": "stream",
     "text": [
      "[14, 1, 1, 49, 35, 16, 40, 29, 40, 40, 27, 20, 15, 17, 42, 13, 46, 13, 31, 18, 46, 25, 18, 28, 1, 43, 28, 18, 45, 49, 36, 1, 22, 8, 41, 20, 38, 40, 29, 11, 23, 42, 1, 9, 12, 42, 47, 26, 33, 43]\n"
     ]
    }
   ],
   "source": [
    "from random import randint \n",
    "nombres = [randint(1,50) for i in range(0,50)]\n",
    "print(nombres)"
   ]
  },
  {
   "cell_type": "code",
   "execution_count": 12,
   "id": "96824524",
   "metadata": {},
   "outputs": [
    {
     "data": {
      "text/plain": [
       "50"
      ]
     },
     "execution_count": 12,
     "metadata": {},
     "output_type": "execute_result"
    }
   ],
   "source": [
    "len(nombres)"
   ]
  },
  {
   "cell_type": "code",
   "execution_count": 6,
   "id": "94e566e9",
   "metadata": {},
   "outputs": [
    {
     "data": {
      "text/plain": [
       "1"
      ]
     },
     "execution_count": 6,
     "metadata": {},
     "output_type": "execute_result"
    }
   ],
   "source": [
    "nombres.count(3)"
   ]
  },
  {
   "cell_type": "code",
   "execution_count": 7,
   "id": "c7deb026",
   "metadata": {},
   "outputs": [
    {
     "data": {
      "text/plain": [
       "1"
      ]
     },
     "execution_count": 7,
     "metadata": {},
     "output_type": "execute_result"
    }
   ],
   "source": [
    "nombres.count(4)"
   ]
  },
  {
   "cell_type": "code",
   "execution_count": 8,
   "id": "a243be7f",
   "metadata": {},
   "outputs": [
    {
     "data": {
      "text/plain": [
       "2"
      ]
     },
     "execution_count": 8,
     "metadata": {},
     "output_type": "execute_result"
    }
   ],
   "source": [
    "nombres.count(3) + nombres.count(4)"
   ]
  },
  {
   "cell_type": "code",
   "execution_count": 13,
   "id": "114a0d91",
   "metadata": {},
   "outputs": [
    {
     "data": {
      "text/plain": [
       "49"
      ]
     },
     "execution_count": 13,
     "metadata": {},
     "output_type": "execute_result"
    }
   ],
   "source": [
    "maxim = max(nombres)\n",
    "(maxim)"
   ]
  },
  {
   "cell_type": "code",
   "execution_count": 18,
   "id": "26643c1d",
   "metadata": {},
   "outputs": [
    {
     "name": "stdout",
     "output_type": "stream",
     "text": [
      "[1, 1, 1]\n"
     ]
    }
   ],
   "source": [
    "import heapq\n",
    "print(heapq.nsmallest(3, nombres))\n"
   ]
  },
  {
   "cell_type": "code",
   "execution_count": 17,
   "id": "b105895a",
   "metadata": {},
   "outputs": [
    {
     "data": {
      "text/plain": [
       "[1, 1, 1]"
      ]
     },
     "execution_count": 17,
     "metadata": {},
     "output_type": "execute_result"
    }
   ],
   "source": [
    "sorted(nombres)[0:3]"
   ]
  },
  {
   "cell_type": "code",
   "execution_count": 14,
   "id": "94cc1769",
   "metadata": {},
   "outputs": [
    {
     "data": {
      "text/plain": [
       "48"
      ]
     },
     "execution_count": 14,
     "metadata": {},
     "output_type": "execute_result"
    }
   ],
   "source": [
    "rang =maxim - min(nombres)\n",
    "rang"
   ]
  },
  {
   "cell_type": "markdown",
   "id": "52a24b33",
   "metadata": {},
   "source": [
    "# Exercici 4\n",
    "## Crea un diccionari de la següent forma i respon a les preguntes:\n",
    "### compra = { \"Pomes\" : {\"Qty\": 5, \"€\": 0.42}, \"Peres\" : {\"Qty\": 3, \"€\": 0.66} }\n",
    "#### Afegeix alguna fruita més\n",
    "#### Quant han costat les peres en total?\n",
    "#### Quantes fruites hem comprat en total?\n",
    "#### Quina és la fruita més cara?"
   ]
  },
  {
   "cell_type": "code",
   "execution_count": 20,
   "id": "f3fb0527",
   "metadata": {},
   "outputs": [
    {
     "name": "stdout",
     "output_type": "stream",
     "text": [
      "{'Pomes': {'Qty': 5, '€': 0.42}, 'Peres': {'Qty': 3, '€': 0.66}}\n"
     ]
    }
   ],
   "source": [
    "compra = { \"Pomes\" : {\"Qty\": 5, \"€\": 0.42}, \"Peres\" : {\"Qty\": 3, \"€\": 0.66} }\n",
    "print(compra)"
   ]
  },
  {
   "cell_type": "code",
   "execution_count": 46,
   "id": "d7bacaed",
   "metadata": {},
   "outputs": [
    {
     "data": {
      "text/plain": [
       "{'Pomes': {'Qty': 5, '€': 0.42},\n",
       " 'Peres': {'Qty': 3, '€': 0.66},\n",
       " 'Platans': {'Qty': 6, '€': 0.15}}"
      ]
     },
     "execution_count": 46,
     "metadata": {},
     "output_type": "execute_result"
    }
   ],
   "source": [
    "compra[\"Platans\"] = {\"Qty\" : 6, \"€\": 0.15}\n",
    "(compra)"
   ]
  },
  {
   "cell_type": "code",
   "execution_count": 47,
   "id": "b78e248d",
   "metadata": {},
   "outputs": [
    {
     "name": "stdout",
     "output_type": "stream",
     "text": [
      "{'Pomes': {'Qty': 5, '€': 0.42}, 'Peres': {'Qty': 3, '€': 0.66}, 'Platans': {'Qty': 6, '€': 0.15}}\n"
     ]
    }
   ],
   "source": [
    "print(compra)"
   ]
  },
  {
   "cell_type": "code",
   "execution_count": 14,
   "id": "ea363877",
   "metadata": {},
   "outputs": [
    {
     "name": "stdout",
     "output_type": "stream",
     "text": [
      "el preu total de les peres és de 1.98 €\n"
     ]
    }
   ],
   "source": [
    "print(\"el preu total de les peres és de\", compra[\"Peres\"][\"Qty\"]*compra[\"Peres\"][\"€\"], \"€\")\n"
   ]
  },
  {
   "cell_type": "code",
   "execution_count": 37,
   "id": "80cbf344",
   "metadata": {},
   "outputs": [
    {
     "data": {
      "text/plain": [
       "14"
      ]
     },
     "execution_count": 37,
     "metadata": {},
     "output_type": "execute_result"
    }
   ],
   "source": [
    "contador=0\n",
    "for fruites in compra.values():\n",
    "    contador+=fruites[\"Qty\"] #es igual a contador=contador+...\n",
    "contador"
   ]
  },
  {
   "cell_type": "code",
   "execution_count": 39,
   "id": "5745b56f",
   "metadata": {},
   "outputs": [
    {
     "data": {
      "text/plain": [
       "14"
      ]
     },
     "execution_count": 39,
     "metadata": {},
     "output_type": "execute_result"
    }
   ],
   "source": [
    "sum(x[\"Qty\"] for x in compra.values())"
   ]
  },
  {
   "cell_type": "code",
   "execution_count": 12,
   "id": "b6532e86",
   "metadata": {},
   "outputs": [
    {
     "name": "stdout",
     "output_type": "stream",
     "text": [
      "La fruita més cara té un preu de 0.75 €\n"
     ]
    }
   ],
   "source": [
    "print(\"La fruita més cara té un preu de\", max(compra[\"Peres\"][\"€\"], compra[\"Pomes\"][\"€\"], compra[\"Platans\"][\"€\"]), \"€\")"
   ]
  },
  {
   "cell_type": "code",
   "execution_count": 49,
   "id": "2150c0bb",
   "metadata": {},
   "outputs": [
    {
     "name": "stdout",
     "output_type": "stream",
     "text": [
      "Peres\n"
     ]
    }
   ],
   "source": [
    "valor=0\n",
    "for key,fruites in compra.items():\n",
    "    if fruites[\"€\"]>valor:\n",
    "        valor=fruites[\"€\"]\n",
    "        maxim=key\n",
    "print(maxim)\n"
   ]
  },
  {
   "cell_type": "code",
   "execution_count": null,
   "id": "5d5ce619",
   "metadata": {},
   "outputs": [],
   "source": []
  }
 ],
 "metadata": {
  "kernelspec": {
   "display_name": "Python 3 (ipykernel)",
   "language": "python",
   "name": "python3"
  },
  "language_info": {
   "codemirror_mode": {
    "name": "ipython",
    "version": 3
   },
   "file_extension": ".py",
   "mimetype": "text/x-python",
   "name": "python",
   "nbconvert_exporter": "python",
   "pygments_lexer": "ipython3",
   "version": "3.11.4"
  }
 },
 "nbformat": 4,
 "nbformat_minor": 5
}
