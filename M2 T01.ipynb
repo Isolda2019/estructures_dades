{
 "cells": [
  {
   "cell_type": "markdown",
   "id": "6523a316",
   "metadata": {},
   "source": [
    "# Exercici 1\n",
    "## Crea una llista que agrupi els mesos de l’any en trimestres (1T: gener, febrer i març; 2T: abril, maig, juny...), és a dir, una llista amb 4 llistes dins."
   ]
  },
  {
   "cell_type": "code",
   "execution_count": 17,
   "id": "1b76b2e5",
   "metadata": {},
   "outputs": [
    {
     "data": {
      "text/plain": [
       "[['gener', 'febrer', 'març'],\n",
       " ['abril', 'maig', 'juny'],\n",
       " ['juliol', 'agost', 'setembre'],\n",
       " ['octubre', 'novembre', 'decembre']]"
      ]
     },
     "execution_count": 17,
     "metadata": {},
     "output_type": "execute_result"
    }
   ],
   "source": [
    "T1 = [\"gener\", \"febrer\", \"març\"]\n",
    "T2 = [\"abril\", \"maig\", \"juny\"]\n",
    "T3 = [\"juliol\", \"agost\", \"setembre\"]\n",
    "T4 = [\"octubre\", \"novembre\", \"decembre\"]\n",
    "mesos = [T1, T2, T3, T4]\n",
    "mesos"
   ]
  },
  {
   "cell_type": "markdown",
   "id": "7af02cbc",
   "metadata": {},
   "source": [
    "# Exercici 2\n",
    "## Crea un codi que et permeti accedir a:\n",
    "\n",
    "### El segon mes del primer trimestre.\n",
    "### Els mesos del primer trimestre.\n",
    "### Setembre i octubre."
   ]
  },
  {
   "cell_type": "code",
   "execution_count": 20,
   "id": "f5c9c5c3",
   "metadata": {},
   "outputs": [
    {
     "data": {
      "text/plain": [
       "('El segon mes del primer trimestre és', 'febrer')"
      ]
     },
     "execution_count": 20,
     "metadata": {},
     "output_type": "execute_result"
    }
   ],
   "source": [
    "\"El segon mes del primer trimestre és\", T1[1]"
   ]
  },
  {
   "cell_type": "code",
   "execution_count": 21,
   "id": "5474c619",
   "metadata": {},
   "outputs": [
    {
     "data": {
      "text/plain": [
       "('Els mesos segon trimestre són', ['gener', 'febrer', 'març'])"
      ]
     },
     "execution_count": 21,
     "metadata": {},
     "output_type": "execute_result"
    }
   ],
   "source": [
    "\"Els mesos segon trimestre són\", T1"
   ]
  },
  {
   "cell_type": "code",
   "execution_count": 3,
   "id": "a03eda55",
   "metadata": {},
   "outputs": [
    {
     "name": "stdout",
     "output_type": "stream",
     "text": [
      "setembre octubre\n"
     ]
    }
   ],
   "source": [
    "print(mesos[2][2], mesos[3][0])\n"
   ]
  },
  {
   "cell_type": "markdown",
   "id": "07e310df",
   "metadata": {},
   "source": [
    "# Exercici 3\n",
    "## Crea una llista amb nombres desordenats i respon a les següents preguntes:\n",
    "\n",
    "### Quants números hi ha?\n",
    "### Quantes vegades apareix el número 3.\n",
    "### Quantes vegades apareixen els nombres 3 i 4?\n",
    "### Quin és el número més gran?\n",
    "### Quins són els 3 números més petits?\n",
    "### Quin és el rang d’aquesta llista?"
   ]
  },
  {
   "cell_type": "code",
   "execution_count": 4,
   "id": "2173192b",
   "metadata": {},
   "outputs": [
    {
     "name": "stdout",
     "output_type": "stream",
     "text": [
      "[46, 5, 2, 24, 43, 31, 29, 32, 23, 6, 8, 32, 49, 11, 12, 2, 33, 46, 12, 46, 1, 1, 3, 48, 43, 27, 16, 43, 29, 46, 37, 39, 6, 48, 20, 20, 27, 48, 28, 28, 29, 30, 4, 18, 32, 42, 28, 38, 24, 28]\n"
     ]
    }
   ],
   "source": [
    "from random import randint \n",
    "nombres = [randint(1,50) for i in range(0,50)]\n",
    "print(nombres)"
   ]
  },
  {
   "cell_type": "code",
   "execution_count": 5,
   "id": "96824524",
   "metadata": {},
   "outputs": [
    {
     "name": "stdout",
     "output_type": "stream",
     "text": [
      "50\n"
     ]
    }
   ],
   "source": [
    "print(len(nombres))"
   ]
  },
  {
   "cell_type": "code",
   "execution_count": 6,
   "id": "94e566e9",
   "metadata": {},
   "outputs": [
    {
     "data": {
      "text/plain": [
       "1"
      ]
     },
     "execution_count": 6,
     "metadata": {},
     "output_type": "execute_result"
    }
   ],
   "source": [
    "nombres.count(3)"
   ]
  },
  {
   "cell_type": "code",
   "execution_count": 7,
   "id": "c7deb026",
   "metadata": {},
   "outputs": [
    {
     "data": {
      "text/plain": [
       "1"
      ]
     },
     "execution_count": 7,
     "metadata": {},
     "output_type": "execute_result"
    }
   ],
   "source": [
    "nombres.count(4)"
   ]
  },
  {
   "cell_type": "code",
   "execution_count": 8,
   "id": "a243be7f",
   "metadata": {},
   "outputs": [
    {
     "data": {
      "text/plain": [
       "2"
      ]
     },
     "execution_count": 8,
     "metadata": {},
     "output_type": "execute_result"
    }
   ],
   "source": [
    "nombres.count(3) + nombres.count(4)"
   ]
  },
  {
   "cell_type": "code",
   "execution_count": 9,
   "id": "114a0d91",
   "metadata": {},
   "outputs": [
    {
     "name": "stdout",
     "output_type": "stream",
     "text": [
      "49\n"
     ]
    }
   ],
   "source": [
    "maxim = max(nombres)\n",
    "print(maxim)"
   ]
  },
  {
   "cell_type": "code",
   "execution_count": 10,
   "id": "26643c1d",
   "metadata": {},
   "outputs": [
    {
     "name": "stdout",
     "output_type": "stream",
     "text": [
      "[1, 1, 2]\n"
     ]
    }
   ],
   "source": [
    "import heapq\n",
    "print(heapq.nsmallest(3, nombres))\n"
   ]
  },
  {
   "cell_type": "code",
   "execution_count": 11,
   "id": "94cc1769",
   "metadata": {},
   "outputs": [
    {
     "data": {
      "text/plain": [
       "48"
      ]
     },
     "execution_count": 11,
     "metadata": {},
     "output_type": "execute_result"
    }
   ],
   "source": [
    "rang =max(nombres) - min(nombres)\n",
    "rang"
   ]
  },
  {
   "cell_type": "markdown",
   "id": "52a24b33",
   "metadata": {},
   "source": [
    "# Exercici 4\n",
    "## Crea un diccionari de la següent forma i respon a les preguntes:\n",
    "### compra = { \"Pomes\" : {\"Qty\": 5, \"€\": 0.42}, \"Peres\" : {\"Qty\": 3, \"€\": 0.66} }\n",
    "#### Afegeix alguna fruita més\n",
    "#### Quant han costat les peres en total?\n",
    "#### Quantes fruites hem comprat en total?\n",
    "#### Quina és la fruita més cara?"
   ]
  },
  {
   "cell_type": "code",
   "execution_count": 1,
   "id": "f3fb0527",
   "metadata": {},
   "outputs": [
    {
     "name": "stdout",
     "output_type": "stream",
     "text": [
      "{'Pomes': {'Qty': 5, '€': 0.42}, 'Peres': {'Qty': 3, '€': 0.66}}\n"
     ]
    }
   ],
   "source": [
    "compra = { \"Pomes\" : {\"Qty\": 5, \"€\": 0.42}, \"Peres\" : {\"Qty\": 3, \"€\": 0.66} }\n",
    "print(compra)"
   ]
  },
  {
   "cell_type": "code",
   "execution_count": 2,
   "id": "d7bacaed",
   "metadata": {},
   "outputs": [
    {
     "data": {
      "text/plain": [
       "{'Pomes': {'Qty': 5, '€': 0.42},\n",
       " 'Peres': {'Qty': 3, '€': 0.66},\n",
       " 'Platans': {'Qty': 6, '€': 0.75}}"
      ]
     },
     "execution_count": 2,
     "metadata": {},
     "output_type": "execute_result"
    }
   ],
   "source": [
    "compra[\"Platans\"] = {\"Qty\" : 6, \"€\": 0.75}\n",
    "(compra)"
   ]
  },
  {
   "cell_type": "code",
   "execution_count": 3,
   "id": "b78e248d",
   "metadata": {},
   "outputs": [
    {
     "name": "stdout",
     "output_type": "stream",
     "text": [
      "{'Pomes': {'Qty': 5, '€': 0.42}, 'Peres': {'Qty': 3, '€': 0.66}, 'Platans': {'Qty': 6, '€': 0.75}}\n"
     ]
    }
   ],
   "source": [
    "print(compra)"
   ]
  },
  {
   "cell_type": "code",
   "execution_count": 14,
   "id": "ea363877",
   "metadata": {},
   "outputs": [
    {
     "name": "stdout",
     "output_type": "stream",
     "text": [
      "el preu total de les peres és de 1.98 €\n"
     ]
    }
   ],
   "source": [
    "print(\"el preu total de les peres és de\", compra[\"Peres\"][\"Qty\"]*compra[\"Peres\"][\"€\"], \"€\")\n"
   ]
  },
  {
   "cell_type": "code",
   "execution_count": 15,
   "id": "a0e7470b",
   "metadata": {},
   "outputs": [
    {
     "name": "stdout",
     "output_type": "stream",
     "text": [
      "El nombre total de fuites comprades és de 14 unitats\n"
     ]
    }
   ],
   "source": [
    "print(\"El nombre total de fuites comprades és de\", compra[\"Pomes\"][\"Qty\"]+compra[\"Peres\"][\"Qty\"]+compra[\"Platans\"][\"Qty\"], \"unitats\")"
   ]
  },
  {
   "cell_type": "code",
   "execution_count": 12,
   "id": "b6532e86",
   "metadata": {},
   "outputs": [
    {
     "name": "stdout",
     "output_type": "stream",
     "text": [
      "La fruita més cara té un preu de 0.75 €\n"
     ]
    }
   ],
   "source": [
    "print(\"La fruita més cara té un preu de\", max(compra[\"Peres\"][\"€\"], compra[\"Pomes\"][\"€\"], compra[\"Platans\"][\"€\"]), \"€\")"
   ]
  },
  {
   "cell_type": "code",
   "execution_count": null,
   "id": "2150c0bb",
   "metadata": {},
   "outputs": [],
   "source": []
  }
 ],
 "metadata": {
  "kernelspec": {
   "display_name": "Python 3 (ipykernel)",
   "language": "python",
   "name": "python3"
  },
  "language_info": {
   "codemirror_mode": {
    "name": "ipython",
    "version": 3
   },
   "file_extension": ".py",
   "mimetype": "text/x-python",
   "name": "python",
   "nbconvert_exporter": "python",
   "pygments_lexer": "ipython3",
   "version": "3.11.4"
  }
 },
 "nbformat": 4,
 "nbformat_minor": 5
}
